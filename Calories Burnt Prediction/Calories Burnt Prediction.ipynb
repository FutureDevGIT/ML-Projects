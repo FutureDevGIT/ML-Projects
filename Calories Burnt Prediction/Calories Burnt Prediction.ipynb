{
 "cells": [
  {
   "cell_type": "code",
   "execution_count": 112,
   "id": "b630d4a5-ad3f-4bd0-adf5-65019ff1a9e5",
   "metadata": {},
   "outputs": [],
   "source": [
    "import pandas as pd\n",
    "import numpy as np\n",
    "import matplotlib.pyplot as plt\n",
    "import seaborn as sns\n",
    "from sklearn.preprocessing import OneHotEncoder, LabelEncoder\n",
    "from sklearn.model_selection import train_test_split\n",
    "from sklearn.linear_model import LinearRegression\n",
    "from sklearn.metrics import mean_squared_error\n",
    "\n",
    "data = pd.read_csv(\"./exercise_dataset.csv\")"
   ]
  },
  {
   "cell_type": "code",
   "execution_count": 113,
   "id": "23df4e4e-e506-4b25-b567-fcc4be069d06",
   "metadata": {},
   "outputs": [
    {
     "name": "stdout",
     "output_type": "stream",
     "text": [
      "   ID     Exercise  Calories Burn  Dream Weight  Actual Weight  Age  Gender  \\\n",
      "0   1   Exercise 2     286.959851     91.892531      96.301115   45    Male   \n",
      "1   2   Exercise 7     343.453036     64.165097      61.104668   25    Male   \n",
      "2   3   Exercise 4     261.223465     70.846224      71.766724   20    Male   \n",
      "3   4   Exercise 5     127.183858     79.477008      82.984456   33    Male   \n",
      "4   5  Exercise 10     416.318374     89.960226      85.643174   29  Female   \n",
      "\n",
      "   Duration  Heart Rate        BMI Weather Conditions  Exercise Intensity  \n",
      "0        37         170  29.426275              Rainy                   5  \n",
      "1        43         142  21.286346              Rainy                   5  \n",
      "2        20         148  27.899592             Cloudy                   4  \n",
      "3        39         170  33.729552              Sunny                  10  \n",
      "4        34         118  23.286113             Cloudy                   3  \n"
     ]
    }
   ],
   "source": [
    "# Check the first few rows\n",
    "print(data.head())"
   ]
  },
  {
   "cell_type": "code",
   "execution_count": 114,
   "id": "ff0e8e06-bd29-46c1-9972-786f97f0cda2",
   "metadata": {},
   "outputs": [
    {
     "name": "stdout",
     "output_type": "stream",
     "text": [
      "<class 'pandas.core.frame.DataFrame'>\n",
      "RangeIndex: 3864 entries, 0 to 3863\n",
      "Data columns (total 12 columns):\n",
      " #   Column              Non-Null Count  Dtype  \n",
      "---  ------              --------------  -----  \n",
      " 0   ID                  3864 non-null   int64  \n",
      " 1   Exercise            3864 non-null   object \n",
      " 2   Calories Burn       3864 non-null   float64\n",
      " 3   Dream Weight        3864 non-null   float64\n",
      " 4   Actual Weight       3864 non-null   float64\n",
      " 5   Age                 3864 non-null   int64  \n",
      " 6   Gender              3864 non-null   object \n",
      " 7   Duration            3864 non-null   int64  \n",
      " 8   Heart Rate          3864 non-null   int64  \n",
      " 9   BMI                 3864 non-null   float64\n",
      " 10  Weather Conditions  3864 non-null   object \n",
      " 11  Exercise Intensity  3864 non-null   int64  \n",
      "dtypes: float64(4), int64(5), object(3)\n",
      "memory usage: 362.4+ KB\n",
      "None\n"
     ]
    }
   ],
   "source": [
    "# Get information about the dataset\n",
    "print(data.info())"
   ]
  },
  {
   "cell_type": "code",
   "execution_count": 115,
   "id": "c342b428-3d86-4159-99d9-add0c622b775",
   "metadata": {},
   "outputs": [
    {
     "name": "stdout",
     "output_type": "stream",
     "text": [
      "ID                    0\n",
      "Exercise              0\n",
      "Calories Burn         0\n",
      "Dream Weight          0\n",
      "Actual Weight         0\n",
      "Age                   0\n",
      "Gender                0\n",
      "Duration              0\n",
      "Heart Rate            0\n",
      "BMI                   0\n",
      "Weather Conditions    0\n",
      "Exercise Intensity    0\n",
      "dtype: int64\n"
     ]
    }
   ],
   "source": [
    "# Check for missing values\n",
    "print(data.isnull().sum())"
   ]
  },
  {
   "cell_type": "code",
   "execution_count": 116,
   "id": "0619ef7f-7764-4e53-bf77-4660b93b73b7",
   "metadata": {},
   "outputs": [
    {
     "name": "stdout",
     "output_type": "stream",
     "text": [
      "                ID  Calories Burn  Dream Weight  Actual Weight          Age  \\\n",
      "count  3864.000000    3864.000000   3864.000000    3864.000000  3864.000000   \n",
      "mean   1932.500000     301.861806     75.139263      75.188440    39.621118   \n",
      "std    1115.585048     115.828604     14.545824      14.845511    12.521721   \n",
      "min       1.000000     100.009403     50.001984      45.783747    18.000000   \n",
      "25%     966.750000     202.168837     62.373585      62.476906    29.000000   \n",
      "50%    1932.500000     299.742508     75.522136      75.544407    40.000000   \n",
      "75%    2898.250000     404.143688     87.707989      88.105767    51.000000   \n",
      "max    3864.000000     499.859262     99.985355     104.309600    60.000000   \n",
      "\n",
      "          Duration   Heart Rate          BMI  Exercise Intensity  \n",
      "count  3864.000000  3864.000000  3864.000000         3864.000000  \n",
      "mean     40.190994   139.777950    26.801977            5.457298  \n",
      "std      11.765957    23.447528     4.746745            2.850896  \n",
      "min      20.000000   100.000000    18.500014            1.000000  \n",
      "25%      30.000000   119.000000    22.686774            3.000000  \n",
      "50%      40.000000   140.000000    26.861656            5.000000  \n",
      "75%      51.000000   160.000000    30.950380            8.000000  \n",
      "max      60.000000   180.000000    34.996639           10.000000  \n"
     ]
    }
   ],
   "source": [
    "# Descriptive statistics\n",
    "print(data.describe())"
   ]
  },
  {
   "cell_type": "code",
   "execution_count": 117,
   "id": "84b62e8a-15a3-4662-b239-126e5accda3f",
   "metadata": {},
   "outputs": [
    {
     "name": "stdout",
     "output_type": "stream",
     "text": [
      "   ID  Calories Burn  Dream Weight  Actual Weight  Age  Duration  Heart Rate  \\\n",
      "0   1            286            91             96   45        37         170   \n",
      "1   2            343            64             61   25        43         142   \n",
      "2   3            261            70             71   20        20         148   \n",
      "3   4            127            79             82   33        39         170   \n",
      "4   5            416            89             85   29        34         118   \n",
      "\n",
      "   BMI  Exercise Intensity  Exercise_Exercise 1  ...  Exercise_Exercise 5  \\\n",
      "0   29                   5                    0  ...                    0   \n",
      "1   21                   5                    0  ...                    0   \n",
      "2   27                   4                    0  ...                    0   \n",
      "3   33                  10                    0  ...                    1   \n",
      "4   23                   3                    0  ...                    0   \n",
      "\n",
      "   Exercise_Exercise 6  Exercise_Exercise 7  Exercise_Exercise 8  \\\n",
      "0                    0                    0                    0   \n",
      "1                    0                    1                    0   \n",
      "2                    0                    0                    0   \n",
      "3                    0                    0                    0   \n",
      "4                    0                    0                    0   \n",
      "\n",
      "   Exercise_Exercise 9  Gender_Female  Gender_Male  Weather Conditions_Cloudy  \\\n",
      "0                    0              0            1                          0   \n",
      "1                    0              0            1                          0   \n",
      "2                    0              0            1                          1   \n",
      "3                    0              0            1                          0   \n",
      "4                    0              1            0                          1   \n",
      "\n",
      "   Weather Conditions_Rainy  Weather Conditions_Sunny  \n",
      "0                         1                         0  \n",
      "1                         1                         0  \n",
      "2                         0                         0  \n",
      "3                         0                         1  \n",
      "4                         0                         0  \n",
      "\n",
      "[5 rows x 24 columns]\n"
     ]
    }
   ],
   "source": [
    "# Create a DataFrame\n",
    "df = pd.DataFrame(data)\n",
    "\n",
    "# Get a list of categorical columns\n",
    "categorical_cols = ['Exercise', 'Gender', 'Weather Conditions']\n",
    "\n",
    "# One-hot encode the categorical columns\n",
    "data = pd.get_dummies(data, columns=categorical_cols)\n",
    "data = data.astype(int)\n",
    "\n",
    "print(data.head())"
   ]
  },
  {
   "cell_type": "code",
   "execution_count": 118,
   "id": "7c62b542-de88-4c68-9825-38ff20aac629",
   "metadata": {},
   "outputs": [
    {
     "data": {
      "image/png": "[encoded data removed]",
      "text/plain": [
       "<Figure size 640x480 with 1 Axes>"
      ]
     },
     "metadata": {},
     "output_type": "display_data"
    }
   ],
   "source": [
    "# Histogram of calories burned\n",
    "plt.hist(data['Calories Burn'], bins=30)\n",
    "plt.xlabel('Calories Burn')\n",
    "plt.ylabel('Frequency')\n",
    "plt.title('Distribution of Calories Burned')\n",
    "plt.show()"
   ]
  },
  {
   "cell_type": "code",
   "execution_count": 125,
   "id": "c71404ba-0806-44a1-b1fb-5ace2a13bc3b",
   "metadata": {},
   "outputs": [],
   "source": [
    "# Select relevant features\n",
    "X = data.drop('Calories Burn', axis=1)  # Features\n",
    "y = data['Calories Burn']  # Target variable"
   ]
  },
  {
   "cell_type": "code",
   "execution_count": 126,
   "id": "7698c460-b4aa-47e4-874d-ab55fa159e3d",
   "metadata": {},
   "outputs": [],
   "source": [
    "# Split data into training and testing sets\n",
    "X_train, X_test, y_train, y_test = train_test_split(X, y, test_size=0.2, random_state=42)"
   ]
  },
  {
   "cell_type": "code",
   "execution_count": 129,
   "id": "11b01862-1f4d-4ab1-9b3f-a6bd41f0b854",
   "metadata": {},
   "outputs": [
    {
     "name": "stdout",
     "output_type": "stream",
     "text": [
      "Mean Squared Error: 13268.331597516872\n"
     ]
    }
   ],
   "source": [
    "# Create the model\n",
    "model = LinearRegression()\n",
    "\n",
    "# Fit the model to the training data\n",
    "model.fit(X_train, y_train)\n",
    "\n",
    "# Make predictions on the test data\n",
    "y_pred = model.predict(X_test)\n",
    "\n",
    "\n",
    "# Evaluate the model\n",
    "mse = mean_squared_error(y_test, y_pred)\n",
    "print('Mean Squared Error:', mse)"
   ]
  },
  {
   "cell_type": "code",
   "execution_count": 130,
   "id": "0c71c243-8271-4bf6-8d00-e6e3a77162cb",
   "metadata": {},
   "outputs": [
    {
     "name": "stdout",
     "output_type": "stream",
     "text": [
      "Root Mean Squared Error: 115.18824418106594\n"
     ]
    }
   ],
   "source": [
    "rmse = np.sqrt(mse)\n",
    "print(\"Root Mean Squared Error:\", rmse)"
   ]
  },
  {
   "cell_type": "code",
   "execution_count": null,
   "id": "4a920f63-cd32-4e45-81d8-1e410d737472",
   "metadata": {},
   "outputs": [],
   "source": []
  }
 ],
 "metadata": {
  "kernelspec": {
   "display_name": "Python 3 (ipykernel)",
   "language": "python",
   "name": "python3"
  },
  "language_info": {
   "codemirror_mode": {
    "name": "ipython",
    "version": 3
   },
   "file_extension": ".py",
   "mimetype": "text/x-python",
   "name": "python",
   "nbconvert_exporter": "python",
   "pygments_lexer": "ipython3",
   "version": "3.12.4"
  }
 },
 "nbformat": 4,
 "nbformat_minor": 5
}
