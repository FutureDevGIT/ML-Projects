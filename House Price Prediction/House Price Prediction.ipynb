{
 "cells": [
  {
   "cell_type": "markdown",
   "id": "ae571adc-5b40-4913-b99e-a396e858d7ad",
   "metadata": {},
   "source": [
    "IMPORTING THE DEPENDENCIES"
   ]
  },
  {
   "cell_type": "code",
   "execution_count": 15,
   "id": "3209079c-4e56-4a34-9125-e861e9f09cf7",
   "metadata": {},
   "outputs": [],
   "source": [
    "import numpy as np\n",
    "import pandas as pd\n",
    "import matplotlib.pyplot as plt\n",
    "import seaborn as sns\n",
    "from sklearn.datasets import fetch_california_housing\n",
    "from sklearn.model_selection import train_test_split\n",
    "from xgboost import XGBRegressor\n",
    "from sklearn import metrics"
   ]
  },
  {
   "cell_type": "raw",
   "id": "529ea8ca-2045-42ea-8de6-79d6ceb08493",
   "metadata": {},
   "source": [
    "Import the Boston House Price Dataset"
   ]
  },
  {
   "cell_type": "code",
   "execution_count": 16,
   "id": "cf6cda25-ce37-49a9-a13d-f00c4c45a424",
   "metadata": {},
   "outputs": [],
   "source": [
    "house_price_dataset = fetch_california_housing(as_frame=True)"
   ]
  },
  {
   "cell_type": "code",
   "execution_count": 13,
   "id": "0cd5e07b-184f-4de9-85b1-9b5230d85cb7",
   "metadata": {},
   "outputs": [
    {
     "name": "stdout",
     "output_type": "stream",
     "text": [
      "{'data':     Married  Age  Years_of_education Male Religious  Sex_partners   Income  \\\n",
      "0         1   52                  14    0         1             1  32500.0   \n",
      "1         0   58                  16    0         1             0  21250.0   \n",
      "2         0   22                  14    1         1            15   2000.0   \n",
      "3         1   35                  14    1         1             5  21250.0   \n",
      "4         0   43                  20    1         1             1  67500.0   \n",
      "..      ...  ...                 ...  ...       ...           ...      ...   \n",
      "154       1   41                  19    1         0             1  27500.0   \n",
      "155       1   29                  14    0         1             1  27500.0   \n",
      "156       0   45                  12    1         1             1  16250.0   \n",
      "157       1   35                  12    1         1             1  55000.0   \n",
      "158       1   47                  12    0         1             1    500.0   \n",
      "\n",
      "    Drug_use Same_sex_relations  \n",
      "0          0                  0  \n",
      "1          0                  0  \n",
      "2          0                  0  \n",
      "3          0                  0  \n",
      "4          0                  0  \n",
      "..       ...                ...  \n",
      "154        0                  0  \n",
      "155        0                  0  \n",
      "156        0                  0  \n",
      "157        0                  0  \n",
      "158        0                  0  \n",
      "\n",
      "[159 rows x 9 columns], 'target': 0      0\n",
      "1      2\n",
      "2      0\n",
      "3      0\n",
      "4      0\n",
      "      ..\n",
      "154    0\n",
      "155    0\n",
      "156    0\n",
      "157    0\n",
      "158    1\n",
      "Name: AIDS_know, Length: 159, dtype: int64, 'frame':     Married  Age  Years_of_education Male Religious  Sex_partners   Income  \\\n",
      "0         1   52                  14    0         1             1  32500.0   \n",
      "1         0   58                  16    0         1             0  21250.0   \n",
      "2         0   22                  14    1         1            15   2000.0   \n",
      "3         1   35                  14    1         1             5  21250.0   \n",
      "4         0   43                  20    1         1             1  67500.0   \n",
      "..      ...  ...                 ...  ...       ...           ...      ...   \n",
      "154       1   41                  19    1         0             1  27500.0   \n",
      "155       1   29                  14    0         1             1  27500.0   \n",
      "156       0   45                  12    1         1             1  16250.0   \n",
      "157       1   35                  12    1         1             1  55000.0   \n",
      "158       1   47                  12    0         1             1    500.0   \n",
      "\n",
      "    Drug_use Same_sex_relations  AIDS_know  \n",
      "0          0                  0          0  \n",
      "1          0                  0          2  \n",
      "2          0                  0          0  \n",
      "3          0                  0          0  \n",
      "4          0                  0          0  \n",
      "..       ...                ...        ...  \n",
      "154        0                  0          0  \n",
      "155        0                  0          0  \n",
      "156        0                  0          0  \n",
      "157        0                  0          0  \n",
      "158        0                  0          1  \n",
      "\n",
      "[159 rows x 10 columns], 'categories': None, 'feature_names': ['Married', 'Age', 'Years_of_education', 'Male', 'Religious', 'Sex_partners', 'Income', 'Drug_use', 'Same_sex_relations'], 'target_names': ['AIDS_know'], 'DESCR': '**Author**:   \\n**Source**: Unknown - Date unknown  \\n**Please cite**:   \\n\\nanalcatdata    A collection of data sets used in the book \"Analyzing Categorical Data,\"\\nby Jeffrey S. Simonoff, Springer-Verlag, New York, 2003. The submission\\nconsists of a zip file containing two versions of each of 84 data sets,\\nplus this README file. Each data set is given in comma-delimited ASCII\\n(.csv) form, and Microsoft Excel (.xls) form.\\n\\nNOTICE: These data sets may be used freely for scientific, educational and/or\\nnoncommercial purposes, provided suitable acknowledgment is given (by citing\\nthe above-named reference).\\n\\nFurther details concerning the book, including information on statistical software\\n(including sample S-PLUS/R and SAS code), are available at the web site\\n\\nhttp://www.stern.nyu.edu/~jsimonof/AnalCatData\\n\\n\\nInformation about the dataset\\nCLASSTYPE: numeric\\nCLASSINDEX: last\\n\\n\\nNote: Quotes, Single-Quotes and Backslashes were removed, Blanks replaced\\nwith Underscores\\n\\nDownloaded from openml.org.', 'details': {'id': '506', 'name': 'analcatdata_gsssexsurvey', 'version': '1', 'description_version': '1', 'format': 'ARFF', 'creator': 'Jeffrey S. Simonoff', 'collection_date': '2003', 'upload_date': '2014-09-29T00:07:15', 'language': 'English', 'licence': 'Public', 'url': 'https://api.openml.org/data/v1/download/52618/analcatdata_gsssexsurvey.arff', 'parquet_url': 'https://openml1.win.tue.nl/datasets/0000/0506/dataset_506.pq', 'file_id': '52618', 'default_target_attribute': 'AIDS_know', 'citation': 'Jeffrey S. Simonoff, Springer-Verlag, New York, 2003', 'visibility': 'public', 'original_data_url': 'http://www.stern.nyu.edu/~jsimonof/AnalCatData', 'minio_url': 'https://openml1.win.tue.nl/datasets/0000/0506/dataset_506.pq', 'status': 'active', 'processing_date': '2020-11-20 19:45:07', 'md5_checksum': '20f8e3ca05aa824521dc28be7b5d0197'}, 'url': 'https://www.openml.org/d/506'}\n"
     ]
    }
   ],
   "source": [
    "print(house_price_dataset)"
   ]
  },
  {
   "cell_type": "code",
   "execution_count": 22,
   "id": "33d26a2e-59b9-40d1-9a73-ad489a057879",
   "metadata": {},
   "outputs": [],
   "source": [
    "# Loading the Datasets to a Pandas DataFrame\n",
    "house_price_dataframe = pd.DataFrame(house_price_dataset.data, columns=house_price_dataset.feature_names)"
   ]
  },
  {
   "cell_type": "code",
   "execution_count": 23,
   "id": "a5f9a9e5-56f9-4d88-a61c-04244da88a42",
   "metadata": {},
   "outputs": [
    {
     "data": {
      "text/html": [
       "<div>\n",
       "<style scoped>\n",
       "    .dataframe tbody tr th:only-of-type {\n",
       "        vertical-align: middle;\n",
       "    }\n",
       "\n",
       "    .dataframe tbody tr th {\n",
       "        vertical-align: top;\n",
       "    }\n",
       "\n",
       "    .dataframe thead th {\n",
       "        text-align: right;\n",
       "    }\n",
       "</style>\n",
       "<table border=\"1\" class=\"dataframe\">\n",
       "  <thead>\n",
       "    <tr style=\"text-align: right;\">\n",
       "      <th></th>\n",
       "      <th>MedInc</th>\n",
       "      <th>HouseAge</th>\n",
       "      <th>AveRooms</th>\n",
       "      <th>AveBedrms</th>\n",
       "      <th>Population</th>\n",
       "      <th>AveOccup</th>\n",
       "      <th>Latitude</th>\n",
       "      <th>Longitude</th>\n",
       "    </tr>\n",
       "  </thead>\n",
       "  <tbody>\n",
       "    <tr>\n",
       "      <th>0</th>\n",
       "      <td>8.3252</td>\n",
       "      <td>41.0</td>\n",
       "      <td>6.984127</td>\n",
       "      <td>1.023810</td>\n",
       "      <td>322.0</td>\n",
       "      <td>2.555556</td>\n",
       "      <td>37.88</td>\n",
       "      <td>-122.23</td>\n",
       "    </tr>\n",
       "    <tr>\n",
       "      <th>1</th>\n",
       "      <td>8.3014</td>\n",
       "      <td>21.0</td>\n",
       "      <td>6.238137</td>\n",
       "      <td>0.971880</td>\n",
       "      <td>2401.0</td>\n",
       "      <td>2.109842</td>\n",
       "      <td>37.86</td>\n",
       "      <td>-122.22</td>\n",
       "    </tr>\n",
       "    <tr>\n",
       "      <th>2</th>\n",
       "      <td>7.2574</td>\n",
       "      <td>52.0</td>\n",
       "      <td>8.288136</td>\n",
       "      <td>1.073446</td>\n",
       "      <td>496.0</td>\n",
       "      <td>2.802260</td>\n",
       "      <td>37.85</td>\n",
       "      <td>-122.24</td>\n",
       "    </tr>\n",
       "    <tr>\n",
       "      <th>3</th>\n",
       "      <td>5.6431</td>\n",
       "      <td>52.0</td>\n",
       "      <td>5.817352</td>\n",
       "      <td>1.073059</td>\n",
       "      <td>558.0</td>\n",
       "      <td>2.547945</td>\n",
       "      <td>37.85</td>\n",
       "      <td>-122.25</td>\n",
       "    </tr>\n",
       "    <tr>\n",
       "      <th>4</th>\n",
       "      <td>3.8462</td>\n",
       "      <td>52.0</td>\n",
       "      <td>6.281853</td>\n",
       "      <td>1.081081</td>\n",
       "      <td>565.0</td>\n",
       "      <td>2.181467</td>\n",
       "      <td>37.85</td>\n",
       "      <td>-122.25</td>\n",
       "    </tr>\n",
       "  </tbody>\n",
       "</table>\n",
       "</div>"
      ],
      "text/plain": [
       "   MedInc  HouseAge  AveRooms  AveBedrms  Population  AveOccup  Latitude  \\\n",
       "0  8.3252      41.0  6.984127   1.023810       322.0  2.555556     37.88   \n",
       "1  8.3014      21.0  6.238137   0.971880      2401.0  2.109842     37.86   \n",
       "2  7.2574      52.0  8.288136   1.073446       496.0  2.802260     37.85   \n",
       "3  5.6431      52.0  5.817352   1.073059       558.0  2.547945     37.85   \n",
       "4  3.8462      52.0  6.281853   1.081081       565.0  2.181467     37.85   \n",
       "\n",
       "   Longitude  \n",
       "0    -122.23  \n",
       "1    -122.22  \n",
       "2    -122.24  \n",
       "3    -122.25  \n",
       "4    -122.25  "
      ]
     },
     "execution_count": 23,
     "metadata": {},
     "output_type": "execute_result"
    }
   ],
   "source": [
    "# Print First 5 Rows of Our DataFrame\n",
    "house_price_dataframe.head()"
   ]
  },
  {
   "cell_type": "code",
   "execution_count": null,
   "id": "b57c66ac-924d-4726-ae35-3d08671fbe30",
   "metadata": {},
   "outputs": [],
   "source": []
  }
 ],
 "metadata": {
  "kernelspec": {
   "display_name": "Python 3 (ipykernel)",
   "language": "python",
   "name": "python3"
  },
  "language_info": {
   "codemirror_mode": {
    "name": "ipython",
    "version": 3
   },
   "file_extension": ".py",
   "mimetype": "text/x-python",
   "name": "python",
   "nbconvert_exporter": "python",
   "pygments_lexer": "ipython3",
   "version": "3.12.4"
  }
 },
 "nbformat": 4,
 "nbformat_minor": 5
}
